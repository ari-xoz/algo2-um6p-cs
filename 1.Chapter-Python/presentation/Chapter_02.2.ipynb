{
 "cells": [
  {
   "cell_type": "markdown",
   "metadata": {
    "collapsed": true,
    "pycharm": {
     "name": "#%% md\n"
    }
   },
   "source": [
    "# Chapter 02: Object-Oriented Programming\n"
   ]
  },
  {
   "cell_type": "markdown",
   "metadata": {},
   "source": [
    "## 2.2 Software Development\n",
    "Traditional software development involves several phases. Three major steps are:\n",
    "1. Design\n",
    "2. Implementation\n",
    "3. Testing and Debugging\n",
    "\n",
    "\n",
    "### 2.2.1 Design\n",
    "\n",
    "The design step is perhaps the most important phase in the process of developing software as we decide:\n",
    "* how to divide the workings of our program into classes, \n",
    "* how these classes will interact, \n",
    "* what data each will store, and \n",
    "* what actions each will perform. \n",
    "\n",
    "One of the main challenges that beginning programmers face is\n",
    "deciding what classes to define to do the work of their program. There are some rules of thumb that we can apply\n",
    "when determining how to design our classes:\n",
    "\n",
    "- **Responsibilities**: Divide the work into different actors, each with a different\n",
    "responsibility. Try to describe responsibilities using action verb (I need a classe to do XXXX).\n",
    "\n",
    "- **Independence**: Define the work for each class to be as independent from\n",
    "other classes as possible. Subdivide responsibilities between classes so that\n",
    "each class has autonomy over some aspect of the program. Give data (as instance variables) to the class that has jurisdiction over the actions that require access to this data.\n",
    "\n",
    "- **Behaviors**: Define the behaviors for each class carefully and precisely, so that the consequences of each action performed by a class will be well understood by other classes that interact with it. These behaviors will define\n",
    "the methods that this class performs, and the set of behaviors for a class are\n",
    "the interface to the class, as these form the means for other pieces of code to\n",
    "interact with objects from the class.\n",
    "\n",
    "\n",
    "\n",
    "A common tool for developing an initial high-level design for a project is the\n",
    "use of CRC cards that  subdivide the work required of a program. \n",
    "\n",
    "![Cards CRC](../images/Fig2.2.1.png)\n",
    "\n",
    "- The main idea behind this\n",
    "tool is to have each card represent a component, which will ultimately become a\n",
    "class in the program. We write the name of each component on the top of an index\n",
    "card. On the left-hand side of the card, we begin writing the responsibilities for\n",
    "this component. On the right-hand side, we list the collaborators for this component, that is, the other components that this component will have to interact with to perform its duties.\n",
    "- In using index cards for this process (rather\n",
    "than larger pieces of paper), we are relying on the fact that each component should\n",
    "have a small set of responsibilities and collaborators. Enforcing this rule helps keep\n",
    "the individual classes manageable\n",
    "\n",
    "\n",
    "As the design takes form, a standard approach to explain and document the\n",
    "design is the use of UML (Unified Modeling Language) diagrams to express the\n",
    "organization of a program. UML diagrams are a standard visual notation to express\n",
    "object-oriented software designs. Several computer-aided tools are available to\n",
    "build UML diagrams. \n",
    "\n",
    "![Cards CRC](../images/Fig2.3.png)\n",
    "\n",
    "### 2.2.3 Coding Style and Documentation\n",
    "\n",
    "Programs should be made **easy to read and understand**. Good programmers should\n",
    "therefore be mindful of their coding style, and develop a style that communicates\n",
    "the important aspects of a program’s design for both humans and computers. Conventions for coding style tend to vary between different programming communities.\n",
    "The official Style Guide for Python Code is available online at : PEP-8\n",
    "http://www.python.org/dev/peps/pep-0008/\n",
    "\n",
    "\n",
    "The main principles that we adopt are as follows:\n",
    "\n",
    "- **Python code blocks are typically indented by 4 spaces**. However, to avoid\n",
    "having our code fragments overrun the book’s margins, **we use 2 spaces** for\n",
    "each level of indentation. It is strongly recommended that tabs be avoided, as\n",
    "tabs are displayed with differing widths across systems, and tabs and spaces\n",
    "are not viewed as identical by the Python interpreter. Many Python-aware\n",
    "editors will automatically replace tabs with an appropriate number of spaces.\n",
    "\n",
    "- Use meaningful names for identifiers. Try to choose names that can be read\n",
    "aloud, and choose names that reflect the action, responsibility, or data each\n",
    "identifier is naming.\n",
    "    - **Classes (other than Python’s built-in classes) should have a name that serves as a singular noun, and should be capitalized** (e.g., Date rather\n",
    "than date or Dates). When multiple words are concatenated to form a\n",
    "class name, they should follow the so-called “CamelCase” convention\n",
    "in which the first letter of each word is capitalized (e.g., CreditCard).\n",
    "    - **Functions, including member functions of a class, should be lowercase**. If multiple words are combined, they should be separated by underscores (e.g., make payment). The name of a function should typically  be a verb that describes its affect. However, if the only purpose of the\n",
    "function is to return a value, the function name may be a noun that describes the value (e.g., sqrt rather than calculate sqrt).\n",
    "\n",
    "    - **Names that identify an individual object (e.g., a parameter, instance variable, or local variable) should be a lowercase noun (e.g., price)**.\n",
    "Occasionally, we stray from this rule when using a single uppercase\n",
    "letter to designate the name of a data structures (such as tree T).\n",
    "    - **Identifiers that represent a value considered to be a constant are traditionally identified using all capital letters** and with underscores to separate words (e.g., MAX SIZE).\n",
    "    - **For encapsulation, identifiers in any context that begin with a single leading underscore (e.g., secret)** are intended to suggest that they are only for “internal” use to a class or module, and not part of a public interface. Python provides only loose support for encapsulation. Those conventions\n",
    "are reinforced by the intentional omission of those members from automatically generated documentation.\n",
    "\n",
    "- Use comments that add meaning to a program and explain ambiguous or\n",
    "confusing constructs. In-line comments are good for quick explanations;\n",
    "they are indicated in Python following the # character, as in\n",
    "```python\n",
    "        >>>> if n % 2 == 1: # n is odd\n",
    "```\n",
    "- Python provides integrated support for embedding formal documentation directly\n",
    "in source code using a mechanism known as a docstring.\n",
    "def scale(data, factor):\n",
    "```python\n",
    "    def scale(data, factor):\n",
    "        '''Multiply all entries of numeric data list by the given factor.'''\n",
    "        for j in range(len(data)):\n",
    "            data[j] *= factor\n",
    "```\n",
    "\n"
   ]
  },
  {
   "cell_type": "code",
   "execution_count": 5,
   "metadata": {},
   "outputs": [],
   "source": [
    "def scale(data, factor):\n",
    "    '''Multiply all entries of numeric data list by the given factor.\n",
    "    \n",
    "    data: an instance of any mutable sequence type (such as a list)\n",
    "    containing numeric elements\n",
    "    \n",
    "    factor: a number that serves as the multiplicative factor for scaling\n",
    "    '''\n",
    "    for j in range(len(data)):\n",
    "        data[j] = factor"
   ]
  },
  {
   "cell_type": "code",
   "execution_count": 6,
   "metadata": {},
   "outputs": [
    {
     "data": {
      "text/plain": [
       "<function __main__.scale(data, factor)>"
      ]
     },
     "execution_count": 6,
     "metadata": {},
     "output_type": "execute_result"
    }
   ],
   "source": [
    "scale"
   ]
  },
  {
   "cell_type": "markdown",
   "metadata": {},
   "source": [
    "### 2.2.4 Testing and Debugging\n",
    "\n",
    "Testing is the process of experimentally checking the correctness of a program,\n",
    "while debugging is the process of tracking the execution of a program and discovering the errors in it.\n",
    "\n",
    "**Testing** :\n",
    "\n",
    "A careful testing plan is an essential part of writing a program. While verifying the\n",
    "correctness of a program over all possible inputs is usually infeasible, we should\n",
    "aim at executing the program on a representative subset of inputs. At the very\n",
    "minimum, we should make sure that every method of a class is tested at least once\n",
    "(method coverage). Even better, each code statement in the program should be\n",
    "executed at least once (statement coverage).\n",
    "\n",
    "Programs often tend to fail on special cases of the input. Such cases need to be\n",
    "carefully identified and tested. For example, when testing a method that sorts (that\n",
    "is, puts in order) a sequence of integers, we should consider the following inputs:\n",
    "- The sequence has zero length (no elements).\n",
    "- The sequence has one element.\n",
    "- All the elements of the sequence are the same.\n",
    "- The sequence is already sorted.\n",
    "- The sequence is reverse sorted.\n",
    "\n",
    "\n",
    "**Debugging** : \n",
    "\n",
    "The simplest debugging technique consists of using print statements to track the\n",
    "values of variables during the execution of the program. A problem with this approach is that eventually the print statements need to be removed or commented\n",
    "out, so they are not executed when the software is finally released.\n",
    "\n",
    "A better approach is to run the program within a debugger, which is a specialized environment for controlling and monitoring the execution of a program. The\n",
    "basic functionality provided by a debugger is the insertion of breakpoints within\n",
    "the code. When the program is executed within the debugger, it stops at each\n",
    "breakpoint. While the program is stopped, the current value of variables can be\n",
    "inspected."
   ]
  },
  {
   "cell_type": "markdown",
   "metadata": {},
   "source": []
  }
 ],
 "metadata": {
  "kernelspec": {
   "display_name": "Python 3",
   "language": "python",
   "name": "python3"
  },
  "language_info": {
   "codemirror_mode": {
    "name": "ipython",
    "version": 3
   },
   "file_extension": ".py",
   "mimetype": "text/x-python",
   "name": "python",
   "nbconvert_exporter": "python",
   "pygments_lexer": "ipython3",
   "version": "3.8.5"
  },
  "pycharm": {
   "stem_cell": {
    "cell_type": "raw",
    "metadata": {
     "collapsed": false
    },
    "source": []
   }
  }
 },
 "nbformat": 4,
 "nbformat_minor": 0
}
